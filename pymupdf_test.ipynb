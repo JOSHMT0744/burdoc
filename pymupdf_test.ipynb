{
 "cells": [
  {
   "cell_type": "code",
   "execution_count": 1,
   "metadata": {},
   "outputs": [
    {
     "name": "stdout",
     "output_type": "stream",
     "text": [
      "env: TESSDATA_PREFIX=C:/Program Files/Tesseract-OCR/tessdata\n"
     ]
    }
   ],
   "source": [
    "%set_env TESSDATA_PREFIX=C:/Program Files/Tesseract-OCR/tessdata\n",
    "%load_ext autoreload\n",
    "%autoreload\n",
    "\n",
    "from src.pdf_reader import PDFReader\n",
    "import os\n",
    "import logging"
   ]
  },
  {
   "cell_type": "code",
   "execution_count": 2,
   "metadata": {},
   "outputs": [
    {
     "name": "stdout",
     "output_type": "stream",
     "text": [
      "0 5e_homebrew_pdf.pdf_extract.pdf\n",
      "1 5e_homebrew_pdf.pdf_extract_1.pdf\n",
      "2 5e_homebrew_pdf.pdf_extract_2.pdf\n",
      "3 922210-Into_Wonderland_Player_Guide___GM_Binder_compressed.pdf_extract.pdf\n",
      "4 922210-Into_Wonderland_Player_Guide___GM_Binder_compressed.pdf_extract_1.pdf\n",
      "5 922210-Into_Wonderland_Player_Guide___GM_Binder_compressed.pdf_extract_2.pdf\n",
      "6 922210-Into_Wonderland_Player_Guide___GM_Binder_compressed.pdf_extract_3.pdf\n",
      "7 922210-Into_Wonderland_Player_Guide___GM_Binder_compressed.pdf_extract_4.pdf\n",
      "8 922210-Into_Wonderland_Player_Guide___GM_Binder_compressed.pdf_extract_5.pdf\n",
      "9 Crown of the Oathbreaker Subclasses.pdf_extract.pdf\n",
      "10 Crown of the Oathbreaker Subclasses.pdf_extract_1.pdf\n",
      "11 FleeMortalsPreview.pdf_extract.pdf\n",
      "12 FleeMortalsPreview.pdf_extract_1.pdf\n",
      "13 FleeMortalsPreview.pdf_extract_2.pdf\n",
      "14 Kobold-Press-Tome-of-Beasts-V3_615b76788442f.pdf_extract.pdf\n",
      "15 Kobold-Press-Tome-of-Beasts-V3_615b76788442f.pdf_extract_1.pdf\n",
      "16 Kobold-Press-Tome-of-Beasts-V3_615b76788442f.pdf_extract_2.pdf\n",
      "17 Kobold-Press-Tome-of-Beasts-V3_615b76788442f.pdf_extract_3.pdf\n",
      "18 Kobold-Press-Tome-of-Beasts-V3_615b76788442f.pdf_extract_4.pdf\n",
      "19 Outclass - The NPC Compendium.pdf_extract.pdf\n",
      "20 uk_transport_statistics.pdf_extract.pdf\n",
      "21 uk_transport_statistics.pdf_extract_1.pdf\n",
      "22 Warlock 15 - Boss Monsters.pdf_extract.pdf\n",
      "23 Warlock 15 - Boss Monsters.pdf_extract_1.pdf\n",
      "24 Warlock 15 - Boss Monsters.pdf_extract_2.pdf\n"
     ]
    }
   ],
   "source": [
    "logger = logging.getLogger()\n",
    "\n",
    "files = os.listdir(r'data/col_samples/')\n",
    "for i,f in enumerate(files):\n",
    "    files [i] = os.path.join(r'data/col_samples/', f)\n",
    "    print(i, os.path.basename(f))"
   ]
  },
  {
   "cell_type": "code",
   "execution_count": 3,
   "metadata": {},
   "outputs": [
    {
     "ename": "SyntaxError",
     "evalue": "invalid syntax (2995168618.py, line 8)",
     "output_type": "error",
     "traceback": [
      "\u001b[1;36m  Cell \u001b[1;32mIn[3], line 8\u001b[1;36m\u001b[0m\n\u001b[1;33m    for i in range(, 9, 1):\u001b[0m\n\u001b[1;37m                   ^\u001b[0m\n\u001b[1;31mSyntaxError\u001b[0m\u001b[1;31m:\u001b[0m invalid syntax\n"
     ]
    }
   ],
   "source": [
    "%autoreload\n",
    "fhandler = logging.FileHandler(filename='mylog.log', mode='w+', encoding='utf8')\n",
    "formatter = logging.Formatter(u'%(asctime)s - %(name)s - %(levelname)s - %(message)s')\n",
    "fhandler.setFormatter(formatter)\n",
    "logger.addHandler(fhandler)\n",
    "logger.setLevel(logging.INFO)\n",
    "reader = PDFReader(logger=logger)\n",
    "for i in range(1, 2, 1):\n",
    "    layout = reader.read(files[i])\n",
    "#layout = reader.read('data/minecraft_paper.pdf')\n",
    "fhandler.close()"
   ]
  },
  {
   "cell_type": "code",
   "execution_count": null,
   "metadata": {},
   "outputs": [],
   "source": []
  },
  {
   "cell_type": "code",
   "execution_count": null,
   "metadata": {},
   "outputs": [],
   "source": []
  }
 ],
 "metadata": {
  "kernelspec": {
   "display_name": "e2",
   "language": "python",
   "name": "python3"
  },
  "language_info": {
   "codemirror_mode": {
    "name": "ipython",
    "version": 3
   },
   "file_extension": ".py",
   "mimetype": "text/x-python",
   "name": "python",
   "nbconvert_exporter": "python",
   "pygments_lexer": "ipython3",
   "version": "3.10.10"
  },
  "orig_nbformat": 4,
  "vscode": {
   "interpreter": {
    "hash": "3e76a8e76373aa219b547ae3cb662c9b0e2071ae370049975716543d499d3b9f"
   }
  }
 },
 "nbformat": 4,
 "nbformat_minor": 2
}
